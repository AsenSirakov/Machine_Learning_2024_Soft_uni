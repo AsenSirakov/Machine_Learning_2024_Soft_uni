{
 "cells": [
  {
   "cell_type": "code",
   "execution_count": 2,
   "id": "0a81076f-f326-4e48-973a-68abe940898e",
   "metadata": {},
   "outputs": [],
   "source": [
    "import pandas as pd\n",
    "import re\n",
    "import numpy as np\n",
    "import matplotlib.pyplot as plt\n",
    "import seaborn as sns"
   ]
  },
  {
   "cell_type": "markdown",
   "id": "4a9c26e8-f5de-4402-a079-22903939feb8",
   "metadata": {},
   "source": [
    "# Summary of paper: Fast retrievals of test-pad coordinates from photo images of printed circuit boards, By Swee Chuan Tan and Schumann Tong Wei Kit, 2016 International Conference on Advanced Mechatronic Systems (ICAMechS), 2016 [1]"
   ]
  },
  {
   "cell_type": "markdown",
   "id": "8b7b4818-e602-45bc-a63d-2d9561096e90",
   "metadata": {},
   "source": [
    "### 1. The paper I will be summarizing can be found here: https://ieeexplore.ieee.org/document/7813492/authors#authors\n",
    "### The data used in this paper: Printed Circuit Board Processed Image by Swee Chuan Tan [10], can be found here: https://archive.ics.uci.edu/dataset/990/printed+circuit+board+processed+image "
   ]
  },
  {
   "cell_type": "markdown",
   "id": "4fa15b83-8d97-4cd7-9cd5-8f3f95a625b4",
   "metadata": {},
   "source": [
    "## Explanation of terms\n",
    "1. Printed Circuit Board (PCB)- A printed circuit board is an essential unit of an electronic device which serves as the base for connecting and powering components to create a single, fully functional electronic circuit that can power and control the device. [2] It's a mechanical base used to hold and connect the components of an electric circuit. PCBs are used in nearly all modern consumer electronic devices and accessories, including phones, tablets, smartwatches, wireless chargers, and power supplies [3]\n",
    "\n",
    "2. Test-pad of PCB - A test point in a PCB is an exposed copper pad that can be used to check whether a circuit is functioning to specification. During production, users can inject test signals via probes through the test points to detect potential issues. [4] A signal or power net is exposed, and can be connected to by an external probe. Bare PCBs are usually tested for short- and open-circuits using the component pads themselves, and this is usually done with a “flying probe” tester. [5]\n",
    "\n",
    "3. Reverse engineering - Reverse-engineering is the act of dismantling an object to see how it works. It is done primarily to analyze and gain knowledge about the way something works but often is used to duplicate or enhance the object.[6] \n",
    "\n",
    "4. Flying probe testers - A flying probe test is a testing method for electronic circuits primarily used to test PCBs. It employs a system of movable probes that virtually \"fly\" over the circuit board, making electrical contact with specific test points on the PCB. \n",
    "Ultimately, it identifies defects and verifies the electrical performance of the circuit. The flying probe test system consists of several key components, including the probes themselves, a test fixture to hold the PCB in place, and control software to manage the testing process[7]\n",
    "\n",
    "5. Short circuit - A bad electrical connection that causes the current to flow in the wrong direction, often having the effect of stopping the power supply. [8]\n",
    "\n",
    "6. Open circuit - A circuit in which the continuity is broken due to which the electric current can not flow [9]\n",
    "\n",
    "7. Two-Step cluster - The TwoStep Cluster node provides a form of cluster analysis. It can be used to cluster the dataset into distinct groups when you don't know what those groups are at the beginning. As with Kohonen nodes and K-Means nodes, TwoStep Cluster models do not use a target field. Instead of trying to predict an outcome, TwoStep Cluster tries to uncover patterns in the set of input fields. Records are grouped so that records within a group or cluster tend to be similar to each other, but records in different groups are dissimilar. [11] "
   ]
  },
  {
   "cell_type": "markdown",
   "id": "177569d4-e270-4bc1-b8fe-9c68da6b87af",
   "metadata": {},
   "source": [
    "## Summary \n",
    "### The aim of this paper\n",
    "In the paper “Fast retrievals of test-pad coordinates from photo images of printed circuit boards\" Tan and Kit (2016) [1] present a new data analytic technique on how to recover test-pad information from photo images of printed circuit boards (PCBs) This technique is particularly useful for reverse engineering  printed circuit boards(PCB's) in situations where documentation is incomplete or unavailable. The retrieved test-pad coordinates serve as crucial input for robotic flying probe testers, which are mechatronic systems capable of performing a wide range of diagnostic tests on PCBs without requiring circuit board schematics.\n",
    "### Introductory problem statement\n",
    "The authors highlight the growing importance of data analytics in solving complex and tedious problems, such as reverse engineering of electronic components. Legacy systems, often deployed in industrial or military applications, typically lack adequate documentation, which complicates maintenance and repair tasks. Issues such as missing schematics, obsolete components, and insufficient vendor support are common. Among these challenges, the absence of circuit-board-level information can significantly hinder repair processes.\n",
    "\n",
    "To address this issue, the paper proposes a method to automate the identification of test pads on PCB images. Test pads are essential for guiding robotic flying probe testers in conducting diagnostic tasks such as connectivity tests, component testing, and voltage or impedance measurements. While manual identification of test pads is feasible, it is time-consuming and prone to human error. The proposed approach leverages clustering techniques to automate this process, thereby enhancing efficiency and accuracy.\n",
    "\n",
    "### Methods of reverse engineering and the appoach the autors take\n",
    "The paper highlights two main approaches to PCB reverse engineering: the destructive approach, which involves physically deconstructing the PCB to recover detailed design information but causes permanent damage, and the non-destructive approach, which preserves the PCB and uses techniques like image analysis to extract specific details, such as netlists. The choice between these methods depends on the amount of information needed and the feasibility of preserving the board. This paper focuses on a non-destructive method for identifying test-pad locations using clustering analysis, emphasizing the need for high precision and recall to minimize errors while maintaining the PCB's integrity.\n",
    "\n",
    "### Data and methods used in the paper\n",
    "**1.The analysis begins** with a digital image of a printed circuit board (PCB), provided with permission from the image owner. Using a Java program, the location and color attributes of each pixel in the image are extracted into a numerical dataset. Each pixel is described by five variables: X and Y, which indicate the pixel’s horizontal and vertical positions, and R, G, and B, which represent the red, green, and blue color intensities respectively, each ranging from 0 to 255. The dataset comprises 71,040 observations, corresponding to the 71,040 pixels in the image. The primary goal of this project is to identify the locations of test pads, which appear as gray circular dots on the PCB.\n",
    "\n",
    "To achieve this, a two-stage clustering approach is employed. The first stage groups the pixels by their color attributes to identify gray pixels corresponding to test pads. The second stage clusters these gray pixels based on their spatial locations to define individual test pads while filtering out noise. This method ensures accurate identification of test pads with minimal errors.\n",
    "\n",
    "**2.In the first stage of the method**, the focus is on clustering the pixels from the PCB image based on their color attributes (R, G, and B values). The PCB image contains several predominant colors, including various shades of green, white, black, and gray. The objective in this stage is to isolate clusters of gray pixels, as these correspond to the test pads on the PCB. Gray pixels are identified based on the common characteristic where the red (R), green (G), and blue (B) color intensities are approximately equal (R ≈ G ≈ B).\n",
    "\n",
    "To achieve this, the K-Means clustering algorithm is applied to the RGB data. The estimated number of clusters ranges from 10 to 12, reflecting the variety of colors present in the PCB image. Three clustering solutions (10, 11, and 12 clusters) are generated to determine the most suitable one for isolating gray pixels. The 12-cluster solution is found to be optimal, as it includes two clusters with average RGB values closest to gray: Cluster 1: R=131, G=147, B=153. and Cluster 2: R=93, G=113, B=115.\n",
    "\n",
    "These two clusters are identified as representing gray pixels corresponding to test pads. To validate this identification, the spatial distribution of the gray pixel records is plotted using their X and Y coordinates. The resulting scatter plot demonstrates that the layout of these gray pixels closely resembles the actual distribution of test pads on the PCB, confirming the effectiveness of the clustering process in this stage.\n",
    "\n",
    "**3.In the second stage**, gray pixels identified earlier are clustered based on their spatial coordinates (X and Y) to locate individual test pads. While the PCB contains 120 legitimate test pads, approximately 50 sporadic gray pixels act as noise. To address this, 170 clusters are created to separate noise, and clusters with fewer than 10 pixels are excluded as they likely represent noise. The centroids of the remaining clusters are identified as test-pad locations.\n",
    "\n",
    "Two-Step clustering outperforms K-Means in this task due to its pre-clustering step, which isolates sporadic pixels into smaller clusters, preventing them from merging with legitimate test-pad clusters. K-Means, in contrast, is more prone to errors as it can misclassify noise as test pads. The Two-Step method thus ensures more accurate and reliable test-pad identification by effectively handling noise.\n",
    "\n",
    "This two-stage clustering process successfully identifies the test-pad locations on the PCB. By combining color-based clustering to isolate gray pixels with spatial clustering to group them into test pads, the method ensures high precision and recall. The use of Two-Step clustering further enhances accuracy by effectively handling noise, making this approach a reliable and efficient solution for PCB reverse engineering\n",
    "\n",
    "### Results\n",
    "The results of the Two-Step clustering method demonstrate high accuracy, as nearly all 120 legitimate test pads on the PCB were correctly identified. An overlay of the clustering output on the PCB image confirms the alignment of cluster centroids with test pad locations. However, upon closer inspection, some errors are noted: five points were incorrectly identified as test pads, and three duplicate test pads were generated for larger test pads. These eight irrelevant points reduce the precision to 93.75% (120 out of 128 identified points), though the recall remains at 100%.\n",
    "\n",
    "Importantly, the errors are minimal and can be easily corrected through visual inspection or post-processing, showcasing the robustness and reliability of the two-stage clustering approach for recovering test-pad locations."
   ]
  },
  {
   "cell_type": "markdown",
   "id": "cb1a3ab6-9447-4771-bceb-f6a8527a25b7",
   "metadata": {},
   "source": [
    "## Reproducing the experiment "
   ]
  },
  {
   "cell_type": "markdown",
   "id": "8972e044-0b28-4239-a1bc-8df136f4180b",
   "metadata": {},
   "source": [
    "1. For that we will be using the Printed Circuit Board dataset from UC Irvine[10]\n",
    "- This data is the same already processed data with 71 040 observations and features (X,Y,R,G,B)\n",
    "\n",
    "2. Let's first read the data"
   ]
  },
  {
   "cell_type": "code",
   "execution_count": 12,
   "id": "0d788ea7-9518-4912-b873-730451b9f791",
   "metadata": {},
   "outputs": [
    {
     "ename": "FileNotFoundError",
     "evalue": "[Errno 2] No such file or directory: 'TestPad_PCB_XYRGB_V2.csv'",
     "output_type": "error",
     "traceback": [
      "\u001b[1;31m---------------------------------------------------------------------------\u001b[0m",
      "\u001b[1;31mFileNotFoundError\u001b[0m                         Traceback (most recent call last)",
      "Cell \u001b[1;32mIn[12], line 1\u001b[0m\n\u001b[1;32m----> 1\u001b[0m data_pcb \u001b[38;5;241m=\u001b[39m pd\u001b[38;5;241m.\u001b[39mread_csv(\u001b[38;5;124m'\u001b[39m\u001b[38;5;124mTestPad_PCB_XYRGB_V2.csv\u001b[39m\u001b[38;5;124m'\u001b[39m)\n",
      "File \u001b[1;32m~\\anaconda3\\Lib\\site-packages\\pandas\\io\\parsers\\readers.py:1026\u001b[0m, in \u001b[0;36mread_csv\u001b[1;34m(filepath_or_buffer, sep, delimiter, header, names, index_col, usecols, dtype, engine, converters, true_values, false_values, skipinitialspace, skiprows, skipfooter, nrows, na_values, keep_default_na, na_filter, verbose, skip_blank_lines, parse_dates, infer_datetime_format, keep_date_col, date_parser, date_format, dayfirst, cache_dates, iterator, chunksize, compression, thousands, decimal, lineterminator, quotechar, quoting, doublequote, escapechar, comment, encoding, encoding_errors, dialect, on_bad_lines, delim_whitespace, low_memory, memory_map, float_precision, storage_options, dtype_backend)\u001b[0m\n\u001b[0;32m   1013\u001b[0m kwds_defaults \u001b[38;5;241m=\u001b[39m _refine_defaults_read(\n\u001b[0;32m   1014\u001b[0m     dialect,\n\u001b[0;32m   1015\u001b[0m     delimiter,\n\u001b[1;32m   (...)\u001b[0m\n\u001b[0;32m   1022\u001b[0m     dtype_backend\u001b[38;5;241m=\u001b[39mdtype_backend,\n\u001b[0;32m   1023\u001b[0m )\n\u001b[0;32m   1024\u001b[0m kwds\u001b[38;5;241m.\u001b[39mupdate(kwds_defaults)\n\u001b[1;32m-> 1026\u001b[0m \u001b[38;5;28;01mreturn\u001b[39;00m _read(filepath_or_buffer, kwds)\n",
      "File \u001b[1;32m~\\anaconda3\\Lib\\site-packages\\pandas\\io\\parsers\\readers.py:620\u001b[0m, in \u001b[0;36m_read\u001b[1;34m(filepath_or_buffer, kwds)\u001b[0m\n\u001b[0;32m    617\u001b[0m _validate_names(kwds\u001b[38;5;241m.\u001b[39mget(\u001b[38;5;124m\"\u001b[39m\u001b[38;5;124mnames\u001b[39m\u001b[38;5;124m\"\u001b[39m, \u001b[38;5;28;01mNone\u001b[39;00m))\n\u001b[0;32m    619\u001b[0m \u001b[38;5;66;03m# Create the parser.\u001b[39;00m\n\u001b[1;32m--> 620\u001b[0m parser \u001b[38;5;241m=\u001b[39m TextFileReader(filepath_or_buffer, \u001b[38;5;241m*\u001b[39m\u001b[38;5;241m*\u001b[39mkwds)\n\u001b[0;32m    622\u001b[0m \u001b[38;5;28;01mif\u001b[39;00m chunksize \u001b[38;5;129;01mor\u001b[39;00m iterator:\n\u001b[0;32m    623\u001b[0m     \u001b[38;5;28;01mreturn\u001b[39;00m parser\n",
      "File \u001b[1;32m~\\anaconda3\\Lib\\site-packages\\pandas\\io\\parsers\\readers.py:1620\u001b[0m, in \u001b[0;36mTextFileReader.__init__\u001b[1;34m(self, f, engine, **kwds)\u001b[0m\n\u001b[0;32m   1617\u001b[0m     \u001b[38;5;28mself\u001b[39m\u001b[38;5;241m.\u001b[39moptions[\u001b[38;5;124m\"\u001b[39m\u001b[38;5;124mhas_index_names\u001b[39m\u001b[38;5;124m\"\u001b[39m] \u001b[38;5;241m=\u001b[39m kwds[\u001b[38;5;124m\"\u001b[39m\u001b[38;5;124mhas_index_names\u001b[39m\u001b[38;5;124m\"\u001b[39m]\n\u001b[0;32m   1619\u001b[0m \u001b[38;5;28mself\u001b[39m\u001b[38;5;241m.\u001b[39mhandles: IOHandles \u001b[38;5;241m|\u001b[39m \u001b[38;5;28;01mNone\u001b[39;00m \u001b[38;5;241m=\u001b[39m \u001b[38;5;28;01mNone\u001b[39;00m\n\u001b[1;32m-> 1620\u001b[0m \u001b[38;5;28mself\u001b[39m\u001b[38;5;241m.\u001b[39m_engine \u001b[38;5;241m=\u001b[39m \u001b[38;5;28mself\u001b[39m\u001b[38;5;241m.\u001b[39m_make_engine(f, \u001b[38;5;28mself\u001b[39m\u001b[38;5;241m.\u001b[39mengine)\n",
      "File \u001b[1;32m~\\anaconda3\\Lib\\site-packages\\pandas\\io\\parsers\\readers.py:1880\u001b[0m, in \u001b[0;36mTextFileReader._make_engine\u001b[1;34m(self, f, engine)\u001b[0m\n\u001b[0;32m   1878\u001b[0m     \u001b[38;5;28;01mif\u001b[39;00m \u001b[38;5;124m\"\u001b[39m\u001b[38;5;124mb\u001b[39m\u001b[38;5;124m\"\u001b[39m \u001b[38;5;129;01mnot\u001b[39;00m \u001b[38;5;129;01min\u001b[39;00m mode:\n\u001b[0;32m   1879\u001b[0m         mode \u001b[38;5;241m+\u001b[39m\u001b[38;5;241m=\u001b[39m \u001b[38;5;124m\"\u001b[39m\u001b[38;5;124mb\u001b[39m\u001b[38;5;124m\"\u001b[39m\n\u001b[1;32m-> 1880\u001b[0m \u001b[38;5;28mself\u001b[39m\u001b[38;5;241m.\u001b[39mhandles \u001b[38;5;241m=\u001b[39m get_handle(\n\u001b[0;32m   1881\u001b[0m     f,\n\u001b[0;32m   1882\u001b[0m     mode,\n\u001b[0;32m   1883\u001b[0m     encoding\u001b[38;5;241m=\u001b[39m\u001b[38;5;28mself\u001b[39m\u001b[38;5;241m.\u001b[39moptions\u001b[38;5;241m.\u001b[39mget(\u001b[38;5;124m\"\u001b[39m\u001b[38;5;124mencoding\u001b[39m\u001b[38;5;124m\"\u001b[39m, \u001b[38;5;28;01mNone\u001b[39;00m),\n\u001b[0;32m   1884\u001b[0m     compression\u001b[38;5;241m=\u001b[39m\u001b[38;5;28mself\u001b[39m\u001b[38;5;241m.\u001b[39moptions\u001b[38;5;241m.\u001b[39mget(\u001b[38;5;124m\"\u001b[39m\u001b[38;5;124mcompression\u001b[39m\u001b[38;5;124m\"\u001b[39m, \u001b[38;5;28;01mNone\u001b[39;00m),\n\u001b[0;32m   1885\u001b[0m     memory_map\u001b[38;5;241m=\u001b[39m\u001b[38;5;28mself\u001b[39m\u001b[38;5;241m.\u001b[39moptions\u001b[38;5;241m.\u001b[39mget(\u001b[38;5;124m\"\u001b[39m\u001b[38;5;124mmemory_map\u001b[39m\u001b[38;5;124m\"\u001b[39m, \u001b[38;5;28;01mFalse\u001b[39;00m),\n\u001b[0;32m   1886\u001b[0m     is_text\u001b[38;5;241m=\u001b[39mis_text,\n\u001b[0;32m   1887\u001b[0m     errors\u001b[38;5;241m=\u001b[39m\u001b[38;5;28mself\u001b[39m\u001b[38;5;241m.\u001b[39moptions\u001b[38;5;241m.\u001b[39mget(\u001b[38;5;124m\"\u001b[39m\u001b[38;5;124mencoding_errors\u001b[39m\u001b[38;5;124m\"\u001b[39m, \u001b[38;5;124m\"\u001b[39m\u001b[38;5;124mstrict\u001b[39m\u001b[38;5;124m\"\u001b[39m),\n\u001b[0;32m   1888\u001b[0m     storage_options\u001b[38;5;241m=\u001b[39m\u001b[38;5;28mself\u001b[39m\u001b[38;5;241m.\u001b[39moptions\u001b[38;5;241m.\u001b[39mget(\u001b[38;5;124m\"\u001b[39m\u001b[38;5;124mstorage_options\u001b[39m\u001b[38;5;124m\"\u001b[39m, \u001b[38;5;28;01mNone\u001b[39;00m),\n\u001b[0;32m   1889\u001b[0m )\n\u001b[0;32m   1890\u001b[0m \u001b[38;5;28;01massert\u001b[39;00m \u001b[38;5;28mself\u001b[39m\u001b[38;5;241m.\u001b[39mhandles \u001b[38;5;129;01mis\u001b[39;00m \u001b[38;5;129;01mnot\u001b[39;00m \u001b[38;5;28;01mNone\u001b[39;00m\n\u001b[0;32m   1891\u001b[0m f \u001b[38;5;241m=\u001b[39m \u001b[38;5;28mself\u001b[39m\u001b[38;5;241m.\u001b[39mhandles\u001b[38;5;241m.\u001b[39mhandle\n",
      "File \u001b[1;32m~\\anaconda3\\Lib\\site-packages\\pandas\\io\\common.py:873\u001b[0m, in \u001b[0;36mget_handle\u001b[1;34m(path_or_buf, mode, encoding, compression, memory_map, is_text, errors, storage_options)\u001b[0m\n\u001b[0;32m    868\u001b[0m \u001b[38;5;28;01melif\u001b[39;00m \u001b[38;5;28misinstance\u001b[39m(handle, \u001b[38;5;28mstr\u001b[39m):\n\u001b[0;32m    869\u001b[0m     \u001b[38;5;66;03m# Check whether the filename is to be opened in binary mode.\u001b[39;00m\n\u001b[0;32m    870\u001b[0m     \u001b[38;5;66;03m# Binary mode does not support 'encoding' and 'newline'.\u001b[39;00m\n\u001b[0;32m    871\u001b[0m     \u001b[38;5;28;01mif\u001b[39;00m ioargs\u001b[38;5;241m.\u001b[39mencoding \u001b[38;5;129;01mand\u001b[39;00m \u001b[38;5;124m\"\u001b[39m\u001b[38;5;124mb\u001b[39m\u001b[38;5;124m\"\u001b[39m \u001b[38;5;129;01mnot\u001b[39;00m \u001b[38;5;129;01min\u001b[39;00m ioargs\u001b[38;5;241m.\u001b[39mmode:\n\u001b[0;32m    872\u001b[0m         \u001b[38;5;66;03m# Encoding\u001b[39;00m\n\u001b[1;32m--> 873\u001b[0m         handle \u001b[38;5;241m=\u001b[39m \u001b[38;5;28mopen\u001b[39m(\n\u001b[0;32m    874\u001b[0m             handle,\n\u001b[0;32m    875\u001b[0m             ioargs\u001b[38;5;241m.\u001b[39mmode,\n\u001b[0;32m    876\u001b[0m             encoding\u001b[38;5;241m=\u001b[39mioargs\u001b[38;5;241m.\u001b[39mencoding,\n\u001b[0;32m    877\u001b[0m             errors\u001b[38;5;241m=\u001b[39merrors,\n\u001b[0;32m    878\u001b[0m             newline\u001b[38;5;241m=\u001b[39m\u001b[38;5;124m\"\u001b[39m\u001b[38;5;124m\"\u001b[39m,\n\u001b[0;32m    879\u001b[0m         )\n\u001b[0;32m    880\u001b[0m     \u001b[38;5;28;01melse\u001b[39;00m:\n\u001b[0;32m    881\u001b[0m         \u001b[38;5;66;03m# Binary mode\u001b[39;00m\n\u001b[0;32m    882\u001b[0m         handle \u001b[38;5;241m=\u001b[39m \u001b[38;5;28mopen\u001b[39m(handle, ioargs\u001b[38;5;241m.\u001b[39mmode)\n",
      "\u001b[1;31mFileNotFoundError\u001b[0m: [Errno 2] No such file or directory: 'TestPad_PCB_XYRGB_V2.csv'"
     ]
    }
   ],
   "source": [
    "data_pcb = pd.read_csv('TestPad_PCB_XYRGB_V2.csv')"
   ]
  },
  {
   "cell_type": "markdown",
   "id": "4b3ef991-0d37-4460-baa4-5cb3b12802b9",
   "metadata": {},
   "source": [
    "## References\n",
    "[1] Tan, S. C., & Kit, S. T. W. (2016). Fast retrievals of test-pad coordinates from photo images of printed circuit boards. 2016 International Conference on Advanced Mechatronic Systems (ICAMechS), 464–467. https://doi.org/10.1109/icamechs.2016.7813492\n",
    "\n",
    "[2] ALFA BRAVO, studio@alfabravo.pl. (n.d.-b). Circuit board components: Learn the types and their usage on PCB. VECTOR BLUE HUB. https://vectorbluehub.com/circuit-board-components#:~:text=A%20printed%20circuit%20board%20is,%2D%20and%20double%2Dsided%20designs.\n",
    "\n",
    "[3] What is a printed circuit board (PCB)? (n.d.). Ansys. Retrieved November 19, 2024, from https://www.ansys.com/simulation-topics/what-is-a-printed-circuit-board\n",
    "\n",
    "[4] What are PCB Test points? - PCB Directory. (n.d.). https://www.pcbdirectory.com/community/what-are-pcb-test-points\n",
    "\n",
    "[5] What are PCB Testpoints? (n.d.). https://www.labcenter.com/blog/pcb-testpoints/#:~:text=Testpoints%20are%20pads%20on%20the,a%20%E2%80%9Cflying%20probe%E2%80%9D%20tester.\n",
    "\n",
    "[6] Lutkevich, B. (2021, June 10). reverse-engineering. Search Software Quality. https://www.techtarget.com/searchsoftwarequality/definition/reverse-engineering#:~:text=Reverse%2Dengineering%20is%20the%20act,duplicate%20or%20enhance%20the%20object.\n",
    "\n",
    "[7] Sufyan, M. (2023, September 28). Flying Probe Test: an extensive guide to the technology and applications. Wevolver. https://www.wevolver.com/article/flying-probe-test-an-extensive-guide-to-the-technology-and-applications\n",
    "\n",
    "[8] short circuit. (2024). https://dictionary.cambridge.org/dictionary/english/short-circuit\n",
    "\n",
    "[9] Byju’s. (2022, July 4). What does the term open circuit mean-. https://byjus.com/question-answer/the-term-open-circuit-means/#:~:text=A%20circuit%20in%20which%20the,dissipates%20from%20an%20open%20circuit.\n",
    "\n",
    "[10] UCI Machine Learning Repository. (n.d.). https://archive.ics.uci.edu/dataset/990/printed+circuit+board+processed+image\n",
    "\n",
    "[11] IBM Cloud PAK for Data 5.0.X. (n.d.). https://www.ibm.com/docs/en/cloud-paks/cp-data/5.0.x?topic=modeling-twostep-cluster-node"
   ]
  }
 ],
 "metadata": {
  "kernelspec": {
   "display_name": "Python 3 (ipykernel)",
   "language": "python",
   "name": "python3"
  },
  "language_info": {
   "codemirror_mode": {
    "name": "ipython",
    "version": 3
   },
   "file_extension": ".py",
   "mimetype": "text/x-python",
   "name": "python",
   "nbconvert_exporter": "python",
   "pygments_lexer": "ipython3",
   "version": "3.12.4"
  }
 },
 "nbformat": 4,
 "nbformat_minor": 5
}

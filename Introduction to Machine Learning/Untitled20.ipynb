{
 "cells": [
  {
   "cell_type": "code",
   "execution_count": null,
   "id": "d07bb6e8-377b-4def-a232-e6d6794dcb50",
   "metadata": {},
   "outputs": [],
   "source": [
    "# Apply K-Means clustering to spatial coordinates\n",
    "num_spatial_clusters = 170  # As per the paper\n",
    "kmeans_spatial = KMeans(n_clusters=num_spatial_clusters, random_state=42)\n",
    "gray_pixels['SpatialCluster'] = kmeans_spatial.fit_predict(gray_pixels[['X', 'Y']])\n"
   ]
  },
  {
   "cell_type": "code",
   "execution_count": null,
   "id": "86d5094a-4b74-49c2-a686-f3788be35671",
   "metadata": {},
   "outputs": [],
   "source": [
    "# Filter clusters with fewer than 10 pixels (noise)\n",
    "cluster_sizes = gray_pixels['SpatialCluster'].value_counts()\n",
    "valid_clusters = cluster_sizes[cluster_sizes > 10].index\n",
    "test_pads = gray_pixels[gray_pixels['SpatialCluster'].isin(valid_clusters)]\n"
   ]
  },
  {
   "cell_type": "code",
   "execution_count": null,
   "id": "8b0362a2-24c5-4701-81c4-42f0dd986c12",
   "metadata": {},
   "outputs": [],
   "source": [
    "# Plot identified test pads\n",
    "plt.figure(figsize=(10, 8))\n",
    "plt.scatter(test_pads['X'], test_pads['Y'], c=test_pads['SpatialCluster'], cmap='viridis', s=1)\n",
    "plt.title(\"Identified Test Pads (Stage 2)\")\n",
    "plt.xlabel(\"X Coordinate\")\n",
    "plt.ylabel(\"Y Coordinate\")\n",
    "plt.show()"
   ]
  },
  {
   "cell_type": "code",
   "execution_count": null,
   "id": "7f85f3b4-9dae-4f6b-b409-239df3d54714",
   "metadata": {},
   "outputs": [],
   "source": [
    "# Known metrics from the paper\n",
    "true_test_pads = 120  # Actual number of test pads\n",
    "detected_test_pads = len(test_pads['SpatialCluster'].unique())  # Number of identified clusters\n",
    "false_positives = detected_test_pads - true_test_pads\n",
    "\n",
    "# Calculate precision and recall\n",
    "precision = true_test_pads / detected_test_pads\n",
    "recall = true_test_pads / true_test_pads  # Recall is 100%\n",
    "\n",
    "print(f\"Precision: {precision * 100:.2f}%\")\n",
    "print(f\"Recall: {recall * 100:.2f}%\")\n"
   ]
  }
 ],
 "metadata": {
  "kernelspec": {
   "display_name": "Python 3 (ipykernel)",
   "language": "python",
   "name": "python3"
  },
  "language_info": {
   "codemirror_mode": {
    "name": "ipython",
    "version": 3
   },
   "file_extension": ".py",
   "mimetype": "text/x-python",
   "name": "python",
   "nbconvert_exporter": "python",
   "pygments_lexer": "ipython3",
   "version": "3.12.4"
  }
 },
 "nbformat": 4,
 "nbformat_minor": 5
}

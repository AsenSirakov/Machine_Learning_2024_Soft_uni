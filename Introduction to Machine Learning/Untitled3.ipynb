{
 "cells": [
  {
   "cell_type": "markdown",
   "id": "96ed7fb1-2ee6-4baf-becc-8001c29cc7f7",
   "metadata": {},
   "source": [
    "# CITATIONS"
   ]
  },
  {
   "cell_type": "markdown",
   "id": "20e160be-760d-46a0-8e6b-4440766fd174",
   "metadata": {},
   "source": [
    "1. https://global.hitachi-solutions.com/blog/reduce-customer-churn/#:~:text=Churn%20%E2%80%94%20also%20known%20as%20customer%20churn%2C%20customer%20attrition%2C%20and%20customer%20turnover%20%E2%80%94%20is%20what%20happens%20when%20a%20customer%20ceases%20to%20use%20your%20product%20or%20service%20and%20terminates%20their%20relationship%20with%20your%20company.\n",
    "2. https://blog.hubspot.com/service/statistics-on-customer-retention#:~:text=Acquiring%20new%20customers%20is%20five%20times%20more%20expensive%20than%20retaining%20existing%20customers.\n",
    "3. https://www.investopedia.com/terms/c/churnrate.asp#:~:text=Churn%20rate%20in%20business,in%20a%20given%20period.\n",
    "4. https://www.gong.io/blog/predicting-churn/#:~:text=Predicting%20customer%20churn%20is%20crucial%20for%20businesses%20because%20it%20allows%20them%20to%20take%20proactive%20measures%20to%20retain%20their%20customer%20base%20and%20improve%20their%20bottom%20line.%C2%A0\n",
    "5. https://www.ipsos.com/sites/default/files/publication/2003-08/Ipsos_Loyalty_Myth_8_Excerpt.pdf\n",
    "6. PDF file\n",
    "7. https://www.churned.io/knowledge-base/understanding-churn-prediction-with-machine-learning#:~:text=Churn%20prediction%20is%20crucial%20for%20businesses%20as%20it%20enables%20them%20to%20identify%20potential%20churn%20risks%20before%20they%20occur.\n",
    "8. https://www.sciencedirect.com/science/article/pii/S2666720723001443\n",
    "9. https://www.researchgate.net/publication/369113771_Customer_Churn_Prediction_Using_Four_Machine_Learning_Algorithms_Integrating_Feature_Selection_and_Normalization_in_the_Telecom_Sector"
   ]
  }
 ],
 "metadata": {
  "kernelspec": {
   "display_name": "Python 3 (ipykernel)",
   "language": "python",
   "name": "python3"
  },
  "language_info": {
   "codemirror_mode": {
    "name": "ipython",
    "version": 3
   },
   "file_extension": ".py",
   "mimetype": "text/x-python",
   "name": "python",
   "nbconvert_exporter": "python",
   "pygments_lexer": "ipython3",
   "version": "3.12.4"
  }
 },
 "nbformat": 4,
 "nbformat_minor": 5
}

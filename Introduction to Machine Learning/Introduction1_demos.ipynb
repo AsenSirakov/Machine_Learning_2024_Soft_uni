{
 "cells": [
  {
   "cell_type": "code",
   "execution_count": 2,
   "id": "18a84e3c-b441-486f-949d-f199b9f3aed0",
   "metadata": {},
   "outputs": [],
   "source": [
    "import numpy as np \n",
    "import matplotlib.pyplot as plt \n",
    "import pandas as pd \n",
    "import seaborn as sns\n",
    "import re\n",
    "import statsmodels.api as sm\n",
    "from sklearn.model_selection import train_test_split\n",
    "from sklearn.linear_model import LinearRegression\n",
    "from sklearn.metrics import r2_score\n",
    "from sklearn.datasets import make_blobs"
   ]
  },
  {
   "cell_type": "markdown",
   "id": "356cdecd-23e0-4f8a-a5d5-681d8c24cddd",
   "metadata": {},
   "source": [
    "# Introduction to machine learning DEMOS "
   ]
  },
  {
   "cell_type": "code",
   "execution_count": null,
   "id": "fcbc6e0f-8888-4223-86c9-f9bc3c107823",
   "metadata": {},
   "outputs": [],
   "source": []
  }
 ],
 "metadata": {
  "kernelspec": {
   "display_name": "Python 3 (ipykernel)",
   "language": "python",
   "name": "python3"
  },
  "language_info": {
   "codemirror_mode": {
    "name": "ipython",
    "version": 3
   },
   "file_extension": ".py",
   "mimetype": "text/x-python",
   "name": "python",
   "nbconvert_exporter": "python",
   "pygments_lexer": "ipython3",
   "version": "3.11.7"
  }
 },
 "nbformat": 4,
 "nbformat_minor": 5
}

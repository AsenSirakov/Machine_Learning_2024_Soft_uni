{
 "cells": [
  {
   "cell_type": "code",
   "execution_count": null,
   "id": "42938598-b496-4a69-8853-e1d37aeeb95e",
   "metadata": {},
   "outputs": [],
   "source": [
    "# Plotting bar charts for categorical columns\n",
    "categorical_cols = ['gender', 'partner', 'dependents', 'phone_service', 'multiple_lines', \n",
    "                    'internet_service', 'online_security', 'online_backup', 'device_protection', \n",
    "                    'tech_support', 'streaming_t_v', 'streaming_movies', 'contract', \n",
    "                    'paperless_billing', 'payment_method', 'churn']\n",
    "\n",
    "plt.figure(figsize=(15, 25))\n",
    "for i, col in enumerate(categorical_cols, 1):\n",
    "    plt.subplot(6, 3, i)\n",
    "    data[col].value_counts().plot(kind='bar', color='skyblue', edgecolor='black')\n",
    "    plt.title(f'Distribution of {col.capitalize()}')\n",
    "    plt.ylabel('Count')\n",
    "    plt.xlabel(col.capitalize())\n",
    "plt.tight_layout()\n",
    "plt.show()\n"
   ]
  },
  {
   "cell_type": "code",
   "execution_count": null,
   "id": "77c34a1f-3401-4c87-a15b-ce8e3538f28f",
   "metadata": {},
   "outputs": [],
   "source": [
    "# Analyzing the relationship between churn and key features\n",
    "plt.figure(figsize=(15, 10))\n",
    "\n",
    "# Tenure vs Churn\n",
    "plt.subplot(2, 2, 1)\n",
    "data.groupby('churn')['tenure'].mean().plot(kind='bar', color='skyblue', edgecolor='black')\n",
    "plt.title('Average Tenure by Churn')\n",
    "plt.ylabel('Average Tenure')\n",
    "\n",
    "# Monthly Charges vs Churn\n",
    "plt.subplot(2, 2, 2)\n",
    "data.groupby('churn')['monthly_charges'].mean().plot(kind='bar', color='lightgreen', edgecolor='black')\n",
    "plt.title('Average Monthly Charges by Churn')\n",
    "plt.ylabel('Average Monthly Charges')\n",
    "\n",
    "# Total Charges vs Churn\n",
    "plt.subplot(2, 2, 3)\n",
    "data.groupby('churn')['total_charges'].mean().plot(kind='bar', color='lightcoral', edgecolor='black')\n",
    "plt.title('Average Total Charges by Churn')\n",
    "plt.ylabel('Average Total Charges')\n",
    "\n",
    "plt.tight_layout()\n",
    "plt.show()\n"
   ]
  },
  {
   "cell_type": "code",
   "execution_count": null,
   "id": "8a177591-3c83-4043-9f73-1ea3e5135e41",
   "metadata": {},
   "outputs": [],
   "source": [
    "import numpy as np\n",
    "import pandas as pd\n",
    "import scipy.stats as stats\n",
    "\n",
    "# Function to calculate Cramér's V for categorical-categorical association\n",
    "def cramers_v(confusion_matrix):\n",
    "    chi2 = stats.chi2_contingency(confusion_matrix)[0]\n",
    "    n = confusion_matrix.sum()\n",
    "    r, k = confusion_matrix.shape\n",
    "    return np.sqrt(chi2 / (n * (min(k - 1, r - 1))))\n",
    "\n",
    "# Calculate Cramér's V for churn against all categorical features\n",
    "categorical_cols = ['gender', 'partner', 'dependents', 'phone_service', 'multiple_lines', 'internet_service',\n",
    "                    'online_security', 'online_backup', 'device_protection', 'tech_support', 'streaming_t_v',\n",
    "                    'streaming_movies', 'contract', 'paperless_billing', 'payment_method']\n",
    "\n",
    "for col in categorical_cols:\n",
    "    confusion_matrix = pd.crosstab(data[col], data['churn'])\n",
    "    print(f'Cramér\\'s V between churn and {col}: {cramers_v(confusion_matrix)}')\n"
   ]
  },
  {
   "cell_type": "code",
   "execution_count": null,
   "id": "eeb7602f-19bc-46ed-89bb-93d04c617a70",
   "metadata": {},
   "outputs": [],
   "source": [
    "# Chi-Square test for independence\n",
    "for col in categorical_cols:\n",
    "    confusion_matrix = pd.crosstab(data[col], data['churn'])\n",
    "    chi2, p, dof, ex = stats.chi2_contingency(confusion_matrix)\n",
    "    print(f'Chi-Square Test between churn and {col}: p-value = {p}')\n"
   ]
  },
  {
   "cell_type": "code",
   "execution_count": null,
   "id": "5150582f-0b46-49ba-b8fe-ccffa67b3d34",
   "metadata": {},
   "outputs": [],
   "source": [
    "# Stacked bar charts for categorical variables vs churn\n",
    "plt.figure(figsize=(15, 25))\n",
    "\n",
    "for i, col in enumerate(categorical_cols, 1):\n",
    "    plt.subplot(6, 3, i)\n",
    "    churn_counts = pd.crosstab(data[col], data['churn'], normalize='index')\n",
    "    churn_counts.plot(kind='bar', stacked=True, ax=plt.gca(), color=['lightgreen', 'salmon'], edgecolor='black')\n",
    "    plt.title(f'{col.capitalize()} vs Churn')\n",
    "    plt.ylabel('Proportion')\n",
    "    plt.xlabel(col.capitalize())\n",
    "\n",
    "plt.tight_layout()\n",
    "plt.show()\n"
   ]
  },
  {
   "cell_type": "code",
   "execution_count": null,
   "id": "a5fb8e0f-6278-4fe2-8ca2-4e3feb4c429e",
   "metadata": {},
   "outputs": [],
   "source": [
    "# Plotting bar charts for categorical columns with churn proportions\n",
    "categorical_cols = ['gender', 'partner', 'dependents', 'phone_service', 'multiple_lines', 'internet_service',\n",
    "                    'online_security', 'online_backup', 'device_protection', 'tech_support', 'streaming_t_v',\n",
    "                    'streaming_movies', 'contract', 'paperless_billing', 'payment_method']\n",
    "\n",
    "plt.figure(figsize=(15, 25))\n",
    "for i, col in enumerate(categorical_cols, 1):\n",
    "    plt.subplot(6, 3, i)\n",
    "    churn_counts = pd.crosstab(data[col], data['churn'], normalize='index')\n",
    "    churn_counts.plot(kind='bar', stacked=True, ax=plt.gca(), color=['lightgreen', 'salmon'], edgecolor='black')\n",
    "    plt.title(f'{col.capitalize()} vs Churn')\n",
    "    plt.ylabel('Proportion')\n",
    "    plt.xlabel(col.capitalize())\n",
    "\n",
    "plt.tight_layout()\n",
    "plt.show()\n"
   ]
  },
  {
   "cell_type": "code",
   "execution_count": null,
   "id": "4bb1011d-0165-4e39-a970-66e83ad9fa60",
   "metadata": {},
   "outputs": [],
   "source": [
    "# Plotting churn rate across categorical features\n",
    "plt.figure(figsize=(15, 25))\n",
    "\n",
    "for i, col in enumerate(categorical_cols, 1):\n",
    "    plt.subplot(6, 3, i)\n",
    "    churn_rate = data.groupby(col)['churn'].value_counts(normalize=True).unstack()['Yes']\n",
    "    churn_rate.plot(kind='bar', color='salmon', edgecolor='black')\n",
    "    plt.title(f'Churn Rate in {col.capitalize()}')\n",
    "    plt.ylabel('Churn Rate')\n",
    "    plt.xlabel(col.capitalize())\n",
    "\n",
    "plt.tight_layout()\n",
    "plt.show()\n"
   ]
  },
  {
   "cell_type": "code",
   "execution_count": null,
   "id": "dbc88509-cf5f-4f84-b736-39b693b4dc6e",
   "metadata": {},
   "outputs": [],
   "source": []
  }
 ],
 "metadata": {
  "kernelspec": {
   "display_name": "Python 3 (ipykernel)",
   "language": "python",
   "name": "python3"
  },
  "language_info": {
   "codemirror_mode": {
    "name": "ipython",
    "version": 3
   },
   "file_extension": ".py",
   "mimetype": "text/x-python",
   "name": "python",
   "nbconvert_exporter": "python",
   "pygments_lexer": "ipython3",
   "version": "3.12.4"
  }
 },
 "nbformat": 4,
 "nbformat_minor": 5
}
